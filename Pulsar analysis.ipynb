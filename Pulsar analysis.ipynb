{
 "cells": [
  {
   "cell_type": "markdown",
   "id": "3237c264-cbf2-4af0-a4e2-7474138e1ecd",
   "metadata": {},
   "source": [
    "# Prediction of Pulsar Star from Parkes Radio Telescope Data\n",
    "Group 23\n",
    "\n",
    "Pulsar is a highly magnetized neutron star or a dwarf star, that emits electromagnetic radiation out of its magnetic poles. Such stars are very dense and have high rotation, thus giving pulsing phenomenon. Pulsars are a source of ultra-high energy cosmic rays. Pulsars in a binary system are used to confirm the existence of gravitational waves. They are also much more accurate than atomic time measuring clocks here on earth. Confirming the existence of pulsar stars require manual checking of data from the telescope. With this project, we aim to automate the findings of pulsars by using predictive analytics."
   ]
  },
  {
   "cell_type": "markdown",
   "id": "860da73b-db8a-4eea-a953-d79bad3177d0",
   "metadata": {},
   "source": [
    "Some terms used in Pulsar analysis\n",
    "1. **Integrated Profile** - Pulsar produces periodic pulses due to their fast rotation and producing strong magnetic fields. You can think of it as a lighthouse with a ray of light in constant rotation. These signals are often too weak to detect and are paired with their rotation which forms an integrated pulse profile. Every Pulsar has a different Pulsar Profile and is a defining characteristic of these stars.\n",
    "\n",
    "2. **Dispertion Measure** - Dispertion Measure or DM for short is disperstion metric of the radio waves produces by the Pulsar. These waves when reaching earth gets dispersed by the free electrons in space and gets dispersed. DM is a measure for that dispersion.\n",
    "\n",
    "3. **SNR** - SNR stands for Signal-to-Noise Ratio and it describes how much noise is present along the signal that is of interest to us, in this case Dispersion Measure.\n",
    "\n",
    "4. **DM-SNR** curve refers to the plot of Dispersion Measure vs Signal-to-Noise Ratio, and signifies how much noise is present in the dispersion meaurements.\n",
    "\n",
    "5. **Kurtosis** - Kurtosis referes to the tailness (top point of the curve) of the distribution curve with comparison to the normal curve. More sharp the           curve is, more outlier that distribution holds.\n",
    "\n",
    "6. **Skewness** - It refers to the amount by which the quantity is deviated from the symmetric bell curve. This signifies how much Pulsar signal deviates from     the normal distribution."
   ]
  },
  {
   "cell_type": "code",
   "execution_count": 7,
   "id": "3f566cfa-e352-46b9-8980-ca699d57da7a",
   "metadata": {},
   "outputs": [],
   "source": [
    "import os\n",
    "import sqlite3\n",
    "from sqlite3 import Error\n",
    "import numpy as np\n",
    "import pandas as pd\n",
    "import matplotlib.pyplot as plt\n",
    "import seaborn as sns\n",
    "from sklearn import preprocessing\n",
    "from sklearn import metrics\n",
    "from sklearn.model_selection import train_test_split, GridSearchCV\n",
    "from sklearn import svm\n",
    "from IPython.display import display, HTML\n",
    "plt.style.use('default')\n",
    "%matplotlib inline"
   ]
  },
  {
   "cell_type": "markdown",
   "id": "bba73f69-732d-4129-88d7-a8755aabf780",
   "metadata": {},
   "source": [
    "### Utility functions"
   ]
  },
  {
   "cell_type": "code",
   "execution_count": 8,
   "id": "f5e583db-f9f2-49b8-bc6b-4f37f42d3f88",
   "metadata": {},
   "outputs": [],
   "source": [
    "def create_connection(db_file, delete_db=False):\n",
    "    if delete_db and os.path.exists(db_file):\n",
    "        os.remove(db_file)\n",
    "    conn = None\n",
    "    try:\n",
    "        conn = sqlite3.connect(db_file)\n",
    "    except Error as e:\n",
    "        print(e)\n",
    "    return conn"
   ]
  },
  {
   "cell_type": "markdown",
   "id": "8fd62248-f000-4d5f-abc9-2e6a8dda85ec",
   "metadata": {},
   "source": [
    "### Importing CSV file and creating Databases"
   ]
  },
  {
   "cell_type": "markdown",
   "id": "df273cd2-236e-4f36-bf4f-64825cc63615",
   "metadata": {},
   "source": [
    "#### Data Description\n",
    "Each pulsar candidate is described by 8 variables and 1 target variable. Number of instances – 17,898\n",
    "1. Mean of Pulsar integrated profile – pulsar signal\n",
    "2. Standard deviation of integrated profile\n",
    "3. Excess kurtosis of integrated profile\n",
    "4. Skewness of integrated profile\n",
    "5. Mean of DM-SNR curve (Dispersion measure vs signal-to-noise ratio)\n",
    "6. Standard deviation of DM-SNR curve\n",
    "7. Excess kurtosis of DM-SNR curve\n",
    "8. Skewness of DM-SNR curve\n",
    "9. Class\n",
    "    * 0 - Not a Pulsar\n",
    "    * 1 - A Pulsar"
   ]
  },
  {
   "cell_type": "markdown",
   "id": "78821344-fa96-4cbf-a05e-f8dad8630a6b",
   "metadata": {},
   "source": [
    "Creating 3 Databases\n",
    "```SQL\n",
    "IntegratedProfile \n",
    "  [ProfileID] Integer not null primary key\n",
    "  [Mean] Real\n",
    "  [StdDev] Real\n",
    "  [Excess] Real\n",
    "  [Skewness] Real\n",
    "DmsnrCurve\n",
    "  [CurveID] Integer not null Primary key\n",
    "  [Mean] Real\n",
    "  [StdDev] Real\n",
    "  [Excess] Real\n",
    "  [Skewness] Real\n",
    "Target\n",
    "    [TargetID] Integer not null Primary key\n",
    "    [Class] Real\n",
    "```"
   ]
  },
  {
   "cell_type": "markdown",
   "id": "4e328aba-286a-47e9-a103-3cb5ef380d52",
   "metadata": {},
   "source": [
    "Parsing CSV file to create tuple of different data for insertion into Tables"
   ]
  },
  {
   "cell_type": "code",
   "execution_count": 9,
   "id": "5794cee2-6248-458a-9d82-26c966fc65ea",
   "metadata": {},
   "outputs": [],
   "source": [
    "def parse_csv(file):\n",
    "    mean_list = []\n",
    "    dmsnr_list = []\n",
    "    target_list = []\n",
    "    with open(file, 'r') as file:\n",
    "        next(file)\n",
    "        for row in file:\n",
    "            contents = row.split(',')\n",
    "            mean = tuple(contents[:4])\n",
    "            dmsnr = tuple(contents[4:8])\n",
    "            target = (contents[8].strip(),)\n",
    "            mean_list.append(mean)\n",
    "            dmsnr_list.append(dmsnr)\n",
    "            target_list.append(target)\n",
    "    return mean_list, dmsnr_list, target_list"
   ]
  },
  {
   "cell_type": "markdown",
   "id": "8c03ccd4-bd22-4a64-8fdf-1b1d8db708d9",
   "metadata": {},
   "source": [
    "Functions to create table and insert values into the table"
   ]
  },
  {
   "cell_type": "code",
   "execution_count": 10,
   "id": "40a5aaf1-745f-4eda-83d2-02edeef5133b",
   "metadata": {},
   "outputs": [],
   "source": [
    "def create_integrated_profile_db(dbfile, data):\n",
    "    with create_connection(dbfile, delete_db=True) as conn:\n",
    "        cur = conn.cursor()\n",
    "        cur.execute(\"\"\"CREATE TABLE IntegratedProfile (\n",
    "            ProfileID INTEGER NOT NULL PRIMARY KEY,\n",
    "            IP_Mean REAL,\n",
    "            IP_StdDev REAL,\n",
    "            IP_Excess REAL,\n",
    "            IP_Skewness REAL\n",
    "        )\"\"\")\n",
    "        \n",
    "        cur = conn.cursor()\n",
    "        cur.executemany(\"INSERT INTO IntegratedProfile(IP_Mean, IP_StdDev, IP_Excess, IP_Skewness) VALUES(?,?,?,?)\", data)"
   ]
  },
  {
   "cell_type": "code",
   "execution_count": 11,
   "id": "ddca47c1-8365-4dd2-9fe0-21cbb6993545",
   "metadata": {},
   "outputs": [],
   "source": [
    "def create_dmsnr_curve_db(dbfile, data):\n",
    "    with create_connection(dbfile) as conn:\n",
    "        cur = conn.cursor()\n",
    "        cur.execute(\"\"\"CREATE TABLE DmsnrCurve (\n",
    "            CurveID INTEGER NOT NULL PRIMARY KEY,\n",
    "            DMSNR_Mean REAL,\n",
    "            DMSNR_StdDev REAL,\n",
    "            DMSNR_Excess REAL,\n",
    "            DMSNR_Skewness REAL\n",
    "        )\"\"\")\n",
    "        \n",
    "        cur = conn.cursor()\n",
    "        cur.executemany(\"INSERT INTO DmsnrCurve(DMSNR_Mean, DMSNR_StdDev, DMSNR_Excess, DMSNR_Skewness) VALUES(?,?,?,?)\", data)"
   ]
  },
  {
   "cell_type": "code",
   "execution_count": 12,
   "id": "edf0089f-6952-44a8-a8ba-49f82dfe44d6",
   "metadata": {},
   "outputs": [],
   "source": [
    "def create_target_db(dbfile, data):\n",
    "    with create_connection(dbfile) as conn:\n",
    "        cur = conn.cursor()\n",
    "        cur.execute(\"\"\"CREATE TABLE Target (\n",
    "            TargetID INTEGER NOT NULL PRIMARY KEY,\n",
    "            Target REAL\n",
    "        )\"\"\")\n",
    "        \n",
    "        cur = conn.cursor()\n",
    "        cur.executemany(\"INSERT INTO Target(Target) VALUES(?)\", data)"
   ]
  },
  {
   "cell_type": "markdown",
   "id": "b159f233-e9e3-4085-af1b-a130f9053629",
   "metadata": {},
   "source": [
    "Collecting train and test data together for insertion"
   ]
  },
  {
   "cell_type": "code",
   "execution_count": 13,
   "id": "6ba4be63-46e7-496b-abe3-12da55e8306b",
   "metadata": {},
   "outputs": [],
   "source": [
    "mean_train, dmsnr_train, target_train = parse_csv('pulsar_data_train.csv')\n",
    "mean_test, dmsnr_test, _ = parse_csv('pulsar_data_test.csv')\n",
    "for m,d in zip(mean_test, dmsnr_test):\n",
    "    mean_train.append(m)\n",
    "    dmsnr_train.append(d)"
   ]
  },
  {
   "cell_type": "markdown",
   "id": "77275c63-1d48-4325-963a-ace1f50e14c2",
   "metadata": {},
   "source": [
    "Inserting values into 3 tables"
   ]
  },
  {
   "cell_type": "code",
   "execution_count": 14,
   "id": "ebe0877f-ca64-41d1-b88e-7c113b5bd15b",
   "metadata": {},
   "outputs": [],
   "source": [
    "create_integrated_profile_db('pulsar.db', mean_train)\n",
    "create_dmsnr_curve_db('pulsar.db', dmsnr_train)\n",
    "create_target_db('pulsar.db', target_train)"
   ]
  },
  {
   "cell_type": "markdown",
   "id": "fd9de478-081d-4cb9-afcd-f7aadc11fc76",
   "metadata": {},
   "source": [
    "Next step is to read data from database using Pandas and do exploratory data analysis and visualization"
   ]
  },
  {
   "cell_type": "code",
   "execution_count": 15,
   "id": "47de8d08-8a00-4c75-80a2-48dbe42030f4",
   "metadata": {},
   "outputs": [
    {
     "data": {
      "text/html": [
       "<div>\n",
       "<style scoped>\n",
       "    .dataframe tbody tr th:only-of-type {\n",
       "        vertical-align: middle;\n",
       "    }\n",
       "\n",
       "    .dataframe tbody tr th {\n",
       "        vertical-align: top;\n",
       "    }\n",
       "\n",
       "    .dataframe thead th {\n",
       "        text-align: right;\n",
       "    }\n",
       "</style>\n",
       "<table border=\"1\" class=\"dataframe\">\n",
       "  <thead>\n",
       "    <tr style=\"text-align: right;\">\n",
       "      <th></th>\n",
       "      <th>IP_Mean</th>\n",
       "      <th>IP_StdDev</th>\n",
       "      <th>IP_Excess</th>\n",
       "      <th>IP_Skewness</th>\n",
       "      <th>DMSNR_Mean</th>\n",
       "      <th>DMSNR_StdDev</th>\n",
       "      <th>DMSNR_Excess</th>\n",
       "      <th>DMSNR_Skewness</th>\n",
       "      <th>Target</th>\n",
       "    </tr>\n",
       "  </thead>\n",
       "  <tbody>\n",
       "    <tr>\n",
       "      <th>0</th>\n",
       "      <td>121.156250</td>\n",
       "      <td>48.372971</td>\n",
       "      <td>0.375485</td>\n",
       "      <td>-0.013165</td>\n",
       "      <td>3.168896</td>\n",
       "      <td>18.399367</td>\n",
       "      <td>7.449874</td>\n",
       "      <td>65.159298</td>\n",
       "      <td>0.0</td>\n",
       "    </tr>\n",
       "    <tr>\n",
       "      <th>1</th>\n",
       "      <td>76.968750</td>\n",
       "      <td>36.175557</td>\n",
       "      <td>0.712898</td>\n",
       "      <td>3.388719</td>\n",
       "      <td>2.399666</td>\n",
       "      <td>17.570997</td>\n",
       "      <td>9.414652</td>\n",
       "      <td>102.722975</td>\n",
       "      <td>0.0</td>\n",
       "    </tr>\n",
       "    <tr>\n",
       "      <th>2</th>\n",
       "      <td>130.585938</td>\n",
       "      <td>53.229534</td>\n",
       "      <td>0.133408</td>\n",
       "      <td>-0.297242</td>\n",
       "      <td>2.743311</td>\n",
       "      <td>22.362553</td>\n",
       "      <td>8.508364</td>\n",
       "      <td>74.031324</td>\n",
       "      <td>0.0</td>\n",
       "    </tr>\n",
       "    <tr>\n",
       "      <th>3</th>\n",
       "      <td>156.398438</td>\n",
       "      <td>48.865942</td>\n",
       "      <td>-0.215989</td>\n",
       "      <td>-0.171294</td>\n",
       "      <td>17.471572</td>\n",
       "      <td></td>\n",
       "      <td>2.958066</td>\n",
       "      <td>7.197842</td>\n",
       "      <td>0.0</td>\n",
       "    </tr>\n",
       "    <tr>\n",
       "      <th>4</th>\n",
       "      <td>84.804688</td>\n",
       "      <td>36.117659</td>\n",
       "      <td>0.825013</td>\n",
       "      <td>3.274125</td>\n",
       "      <td>2.790134</td>\n",
       "      <td>20.618009</td>\n",
       "      <td>8.405008</td>\n",
       "      <td>76.291128</td>\n",
       "      <td>0.0</td>\n",
       "    </tr>\n",
       "  </tbody>\n",
       "</table>\n",
       "</div>"
      ],
      "text/plain": [
       "      IP_Mean  IP_StdDev IP_Excess  IP_Skewness  DMSNR_Mean DMSNR_StdDev  \\\n",
       "0  121.156250  48.372971  0.375485    -0.013165    3.168896    18.399367   \n",
       "1   76.968750  36.175557  0.712898     3.388719    2.399666    17.570997   \n",
       "2  130.585938  53.229534  0.133408    -0.297242    2.743311    22.362553   \n",
       "3  156.398438  48.865942 -0.215989    -0.171294   17.471572                \n",
       "4   84.804688  36.117659  0.825013     3.274125    2.790134    20.618009   \n",
       "\n",
       "   DMSNR_Excess DMSNR_Skewness  Target  \n",
       "0      7.449874      65.159298     0.0  \n",
       "1      9.414652     102.722975     0.0  \n",
       "2      8.508364      74.031324     0.0  \n",
       "3      2.958066       7.197842     0.0  \n",
       "4      8.405008      76.291128     0.0  "
      ]
     },
     "metadata": {},
     "output_type": "display_data"
    }
   ],
   "source": [
    "conn = create_connection('pulsar.db')\n",
    "df = pd.read_sql_query(\"\"\"SELECT I.IP_Mean, I.IP_StdDev, I.IP_Excess, I.IP_Skewness, D.DMSNR_Mean, D.DMSNR_StdDev, D.DMSNR_Excess, D.DMSNR_Skewness, T.Target from Target T\n",
    "                           LEFT JOIN DmsnrCurve D\n",
    "                           ON T.TargetID = D.CurveID\n",
    "                           LEFT JOIN IntegratedProfile I\n",
    "                           ON T.TargetID = I.ProfileID\"\"\", conn)\n",
    "display(df.head(5))"
   ]
  },
  {
   "cell_type": "markdown",
   "id": "31573a2b-0458-4180-b1c9-cf81c8a33267",
   "metadata": {},
   "source": [
    "## Exploratory Data Analysis"
   ]
  },
  {
   "cell_type": "markdown",
   "id": "139aab9b-6711-4bd3-923f-3b87f2ec177f",
   "metadata": {},
   "source": [
    "Remove blank value from Dataframe and convert Dataframe columns to appropriate datatype"
   ]
  },
  {
   "cell_type": "code",
   "execution_count": 16,
   "id": "872f9f65-2707-44b2-8ab7-4c70a794e0b5",
   "metadata": {},
   "outputs": [
    {
     "data": {
      "text/html": [
       "<div>\n",
       "<style scoped>\n",
       "    .dataframe tbody tr th:only-of-type {\n",
       "        vertical-align: middle;\n",
       "    }\n",
       "\n",
       "    .dataframe tbody tr th {\n",
       "        vertical-align: top;\n",
       "    }\n",
       "\n",
       "    .dataframe thead th {\n",
       "        text-align: right;\n",
       "    }\n",
       "</style>\n",
       "<table border=\"1\" class=\"dataframe\">\n",
       "  <thead>\n",
       "    <tr style=\"text-align: right;\">\n",
       "      <th></th>\n",
       "      <th>IP_Mean</th>\n",
       "      <th>IP_StdDev</th>\n",
       "      <th>IP_Excess</th>\n",
       "      <th>IP_Skewness</th>\n",
       "      <th>DMSNR_Mean</th>\n",
       "      <th>DMSNR_StdDev</th>\n",
       "      <th>DMSNR_Excess</th>\n",
       "      <th>DMSNR_Skewness</th>\n",
       "      <th>Target</th>\n",
       "    </tr>\n",
       "  </thead>\n",
       "  <tbody>\n",
       "    <tr>\n",
       "      <th>0</th>\n",
       "      <td>121.156250</td>\n",
       "      <td>48.372971</td>\n",
       "      <td>0.375485</td>\n",
       "      <td>-0.013165</td>\n",
       "      <td>3.168896</td>\n",
       "      <td>18.399367</td>\n",
       "      <td>7.449874</td>\n",
       "      <td>65.159298</td>\n",
       "      <td>0</td>\n",
       "    </tr>\n",
       "    <tr>\n",
       "      <th>1</th>\n",
       "      <td>76.968750</td>\n",
       "      <td>36.175557</td>\n",
       "      <td>0.712898</td>\n",
       "      <td>3.388719</td>\n",
       "      <td>2.399666</td>\n",
       "      <td>17.570997</td>\n",
       "      <td>9.414652</td>\n",
       "      <td>102.722975</td>\n",
       "      <td>0</td>\n",
       "    </tr>\n",
       "    <tr>\n",
       "      <th>2</th>\n",
       "      <td>130.585938</td>\n",
       "      <td>53.229534</td>\n",
       "      <td>0.133408</td>\n",
       "      <td>-0.297242</td>\n",
       "      <td>2.743311</td>\n",
       "      <td>22.362553</td>\n",
       "      <td>8.508364</td>\n",
       "      <td>74.031324</td>\n",
       "      <td>0</td>\n",
       "    </tr>\n",
       "    <tr>\n",
       "      <th>4</th>\n",
       "      <td>84.804688</td>\n",
       "      <td>36.117659</td>\n",
       "      <td>0.825013</td>\n",
       "      <td>3.274125</td>\n",
       "      <td>2.790134</td>\n",
       "      <td>20.618009</td>\n",
       "      <td>8.405008</td>\n",
       "      <td>76.291128</td>\n",
       "      <td>0</td>\n",
       "    </tr>\n",
       "    <tr>\n",
       "      <th>7</th>\n",
       "      <td>109.406250</td>\n",
       "      <td>55.912521</td>\n",
       "      <td>0.565106</td>\n",
       "      <td>0.056247</td>\n",
       "      <td>2.797659</td>\n",
       "      <td>19.496527</td>\n",
       "      <td>9.443282</td>\n",
       "      <td>97.374578</td>\n",
       "      <td>0</td>\n",
       "    </tr>\n",
       "  </tbody>\n",
       "</table>\n",
       "</div>"
      ],
      "text/plain": [
       "      IP_Mean  IP_StdDev  IP_Excess  IP_Skewness  DMSNR_Mean  DMSNR_StdDev  \\\n",
       "0  121.156250  48.372971   0.375485    -0.013165    3.168896     18.399367   \n",
       "1   76.968750  36.175557   0.712898     3.388719    2.399666     17.570997   \n",
       "2  130.585938  53.229534   0.133408    -0.297242    2.743311     22.362553   \n",
       "4   84.804688  36.117659   0.825013     3.274125    2.790134     20.618009   \n",
       "7  109.406250  55.912521   0.565106     0.056247    2.797659     19.496527   \n",
       "\n",
       "   DMSNR_Excess  DMSNR_Skewness  Target  \n",
       "0      7.449874       65.159298       0  \n",
       "1      9.414652      102.722975       0  \n",
       "2      8.508364       74.031324       0  \n",
       "4      8.405008       76.291128       0  \n",
       "7      9.443282       97.374578       0  "
      ]
     },
     "metadata": {},
     "output_type": "display_data"
    }
   ],
   "source": [
    "df.replace('', np.nan, inplace=True)\n",
    "df.dropna(inplace=True)\n",
    "df.apply(pd.to_numeric, errors='coerce')\n",
    "df['Target'] = df['Target'].astype(int)\n",
    "display(df.head())"
   ]
  },
  {
   "cell_type": "markdown",
   "id": "435b747a-aa65-483d-b6b4-da0a6a653486",
   "metadata": {},
   "source": [
    "Summary of the dataset"
   ]
  },
  {
   "cell_type": "code",
   "execution_count": 17,
   "id": "da2aa8d5-1897-429e-8a65-ad42a1542abf",
   "metadata": {},
   "outputs": [
    {
     "name": "stdout",
     "output_type": "stream",
     "text": [
      "<class 'pandas.core.frame.DataFrame'>\n",
      "Int64Index: 9273 entries, 0 to 12527\n",
      "Data columns (total 9 columns):\n",
      " #   Column          Non-Null Count  Dtype  \n",
      "---  ------          --------------  -----  \n",
      " 0   IP_Mean         9273 non-null   float64\n",
      " 1   IP_StdDev       9273 non-null   float64\n",
      " 2   IP_Excess       9273 non-null   float64\n",
      " 3   IP_Skewness     9273 non-null   float64\n",
      " 4   DMSNR_Mean      9273 non-null   float64\n",
      " 5   DMSNR_StdDev    9273 non-null   float64\n",
      " 6   DMSNR_Excess    9273 non-null   float64\n",
      " 7   DMSNR_Skewness  9273 non-null   float64\n",
      " 8   Target          9273 non-null   int64  \n",
      "dtypes: float64(8), int64(1)\n",
      "memory usage: 724.5 KB\n"
     ]
    }
   ],
   "source": [
    "df.info()"
   ]
  },
  {
   "cell_type": "markdown",
   "id": "8916fe89-cc9e-4233-b656-206d34d7f168",
   "metadata": {},
   "source": [
    "Converting classes into ineteger and calculating target values ratios\n",
    "```\n",
    "0 -> Star is not a Pulsar\n",
    "1 -> Star is a Pulsar\n",
    "```"
   ]
  },
  {
   "cell_type": "code",
   "execution_count": 18,
   "id": "f3a7b30f-847d-427f-b333-f77a9763740b",
   "metadata": {},
   "outputs": [
    {
     "data": {
      "image/png": "[encoded data removed]",
      "text/plain": [
       "<Figure size 432x288 with 1 Axes>"
      ]
     },
     "metadata": {
      "needs_background": "light"
     },
     "output_type": "display_data"
    }
   ],
   "source": [
    "classes = df['Target'].value_counts()\n",
    "fig = plt.figure()\n",
    "ax = fig.add_axes([0,0,1,1])\n",
    "langs = ['0', '1']\n",
    "ax.bar(langs,classes)\n",
    "plt.show()"
   ]
  },
  {
   "cell_type": "markdown",
   "id": "b96df814-de15-4c91-a1e1-96bfc39f3879",
   "metadata": {},
   "source": [
    "Scatterplots to visualize relation between `IP_Mean` and `DMSNR_Mean`"
   ]
  },
  {
   "cell_type": "code",
   "execution_count": 19,
   "id": "8a574d53-cc7b-405b-92c0-736e2f1c19d2",
   "metadata": {},
   "outputs": [
    {
     "data": {
      "text/plain": [
       "<matplotlib.collections.PathCollection at 0x14e0db400>"
      ]
     },
     "execution_count": 19,
     "metadata": {},
     "output_type": "execute_result"
    },
    {
     "data": {
      "image/png": "[encoded data removed]",
      "text/plain": [
       "<Figure size 432x288 with 1 Axes>"
      ]
     },
     "metadata": {
      "needs_background": "light"
     },
     "output_type": "display_data"
    }
   ],
   "source": [
    "plt.scatter(df['IP_Mean'], df['DMSNR_Mean'], s=2)"
   ]
  },
  {
   "cell_type": "markdown",
   "id": "d24101ae-b90d-4e22-99ed-f7f2bbd217b4",
   "metadata": {},
   "source": [
    "Scatterplot to visualize relation between `IP_StdDev` and `DMSNR_StdDev`"
   ]
  },
  {
   "cell_type": "code",
   "execution_count": 20,
   "id": "a087da8f-0f73-4a35-84f1-0adbb052162b",
   "metadata": {},
   "outputs": [
    {
     "data": {
      "text/plain": [
       "<matplotlib.collections.PathCollection at 0x14e353be0>"
      ]
     },
     "execution_count": 20,
     "metadata": {},
     "output_type": "execute_result"
    },
    {
     "data": {
      "image/png": "[encoded data removed]",
      "text/plain": [
       "<Figure size 432x288 with 1 Axes>"
      ]
     },
     "metadata": {
      "needs_background": "light"
     },
     "output_type": "display_data"
    }
   ],
   "source": [
    "plt.scatter(df['IP_StdDev'], df['DMSNR_StdDev'], s=2)"
   ]
  },
  {
   "cell_type": "markdown",
   "id": "4119e944-b382-4912-bea3-c4ea01ff6068",
   "metadata": {},
   "source": [
    "Calculating correlation between different variables, to see what variables are highly related to other.\n",
    "\n",
    "Heatmap of the correlation matrix to visualize the multicollinearity between varibales"
   ]
  },
  {
   "cell_type": "code",
   "execution_count": 21,
   "id": "3b2b331c-aea6-4b1e-895b-e58d5ca58d7d",
   "metadata": {},
   "outputs": [
    {
     "data": {
      "text/html": [
       "<div>\n",
       "<style scoped>\n",
       "    .dataframe tbody tr th:only-of-type {\n",
       "        vertical-align: middle;\n",
       "    }\n",
       "\n",
       "    .dataframe tbody tr th {\n",
       "        vertical-align: top;\n",
       "    }\n",
       "\n",
       "    .dataframe thead th {\n",
       "        text-align: right;\n",
       "    }\n",
       "</style>\n",
       "<table border=\"1\" class=\"dataframe\">\n",
       "  <thead>\n",
       "    <tr style=\"text-align: right;\">\n",
       "      <th></th>\n",
       "      <th>IP_Mean</th>\n",
       "      <th>IP_StdDev</th>\n",
       "      <th>IP_Excess</th>\n",
       "      <th>IP_Skewness</th>\n",
       "      <th>DMSNR_Mean</th>\n",
       "      <th>DMSNR_StdDev</th>\n",
       "      <th>DMSNR_Excess</th>\n",
       "      <th>DMSNR_Skewness</th>\n",
       "      <th>Target</th>\n",
       "    </tr>\n",
       "  </thead>\n",
       "  <tbody>\n",
       "    <tr>\n",
       "      <th>IP_Mean</th>\n",
       "      <td>1.000000</td>\n",
       "      <td>0.554197</td>\n",
       "      <td>-0.872497</td>\n",
       "      <td>-0.734920</td>\n",
       "      <td>-0.299984</td>\n",
       "      <td>-0.307431</td>\n",
       "      <td>0.236010</td>\n",
       "      <td>0.146103</td>\n",
       "      <td>-0.675819</td>\n",
       "    </tr>\n",
       "    <tr>\n",
       "      <th>IP_StdDev</th>\n",
       "      <td>0.554197</td>\n",
       "      <td>1.000000</td>\n",
       "      <td>-0.528370</td>\n",
       "      <td>-0.542560</td>\n",
       "      <td>-0.011061</td>\n",
       "      <td>-0.059486</td>\n",
       "      <td>0.036907</td>\n",
       "      <td>0.030959</td>\n",
       "      <td>-0.368223</td>\n",
       "    </tr>\n",
       "    <tr>\n",
       "      <th>IP_Excess</th>\n",
       "      <td>-0.872497</td>\n",
       "      <td>-0.528370</td>\n",
       "      <td>1.000000</td>\n",
       "      <td>0.944715</td>\n",
       "      <td>0.421126</td>\n",
       "      <td>0.436362</td>\n",
       "      <td>-0.344571</td>\n",
       "      <td>-0.216748</td>\n",
       "      <td>0.790866</td>\n",
       "    </tr>\n",
       "    <tr>\n",
       "      <th>IP_Skewness</th>\n",
       "      <td>-0.734920</td>\n",
       "      <td>-0.542560</td>\n",
       "      <td>0.944715</td>\n",
       "      <td>1.000000</td>\n",
       "      <td>0.415570</td>\n",
       "      <td>0.415902</td>\n",
       "      <td>-0.328328</td>\n",
       "      <td>-0.204109</td>\n",
       "      <td>0.704743</td>\n",
       "    </tr>\n",
       "    <tr>\n",
       "      <th>DMSNR_Mean</th>\n",
       "      <td>-0.299984</td>\n",
       "      <td>-0.011061</td>\n",
       "      <td>0.421126</td>\n",
       "      <td>0.415570</td>\n",
       "      <td>1.000000</td>\n",
       "      <td>0.796449</td>\n",
       "      <td>-0.614526</td>\n",
       "      <td>-0.353186</td>\n",
       "      <td>0.407043</td>\n",
       "    </tr>\n",
       "    <tr>\n",
       "      <th>DMSNR_StdDev</th>\n",
       "      <td>-0.307431</td>\n",
       "      <td>-0.059486</td>\n",
       "      <td>0.436362</td>\n",
       "      <td>0.415902</td>\n",
       "      <td>0.796449</td>\n",
       "      <td>1.000000</td>\n",
       "      <td>-0.807013</td>\n",
       "      <td>-0.573260</td>\n",
       "      <td>0.493163</td>\n",
       "    </tr>\n",
       "    <tr>\n",
       "      <th>DMSNR_Excess</th>\n",
       "      <td>0.236010</td>\n",
       "      <td>0.036907</td>\n",
       "      <td>-0.344571</td>\n",
       "      <td>-0.328328</td>\n",
       "      <td>-0.614526</td>\n",
       "      <td>-0.807013</td>\n",
       "      <td>1.000000</td>\n",
       "      <td>0.924326</td>\n",
       "      <td>-0.390352</td>\n",
       "    </tr>\n",
       "    <tr>\n",
       "      <th>DMSNR_Skewness</th>\n",
       "      <td>0.146103</td>\n",
       "      <td>0.030959</td>\n",
       "      <td>-0.216748</td>\n",
       "      <td>-0.204109</td>\n",
       "      <td>-0.353186</td>\n",
       "      <td>-0.573260</td>\n",
       "      <td>0.924326</td>\n",
       "      <td>1.000000</td>\n",
       "      <td>-0.258428</td>\n",
       "    </tr>\n",
       "    <tr>\n",
       "      <th>Target</th>\n",
       "      <td>-0.675819</td>\n",
       "      <td>-0.368223</td>\n",
       "      <td>0.790866</td>\n",
       "      <td>0.704743</td>\n",
       "      <td>0.407043</td>\n",
       "      <td>0.493163</td>\n",
       "      <td>-0.390352</td>\n",
       "      <td>-0.258428</td>\n",
       "      <td>1.000000</td>\n",
       "    </tr>\n",
       "  </tbody>\n",
       "</table>\n",
       "</div>"
      ],
      "text/plain": [
       "                 IP_Mean  IP_StdDev  IP_Excess  IP_Skewness  DMSNR_Mean  \\\n",
       "IP_Mean         1.000000   0.554197  -0.872497    -0.734920   -0.299984   \n",
       "IP_StdDev       0.554197   1.000000  -0.528370    -0.542560   -0.011061   \n",
       "IP_Excess      -0.872497  -0.528370   1.000000     0.944715    0.421126   \n",
       "IP_Skewness    -0.734920  -0.542560   0.944715     1.000000    0.415570   \n",
       "DMSNR_Mean     -0.299984  -0.011061   0.421126     0.415570    1.000000   \n",
       "DMSNR_StdDev   -0.307431  -0.059486   0.436362     0.415902    0.796449   \n",
       "DMSNR_Excess    0.236010   0.036907  -0.344571    -0.328328   -0.614526   \n",
       "DMSNR_Skewness  0.146103   0.030959  -0.216748    -0.204109   -0.353186   \n",
       "Target         -0.675819  -0.368223   0.790866     0.704743    0.407043   \n",
       "\n",
       "                DMSNR_StdDev  DMSNR_Excess  DMSNR_Skewness    Target  \n",
       "IP_Mean            -0.307431      0.236010        0.146103 -0.675819  \n",
       "IP_StdDev          -0.059486      0.036907        0.030959 -0.368223  \n",
       "IP_Excess           0.436362     -0.344571       -0.216748  0.790866  \n",
       "IP_Skewness         0.415902     -0.328328       -0.204109  0.704743  \n",
       "DMSNR_Mean          0.796449     -0.614526       -0.353186  0.407043  \n",
       "DMSNR_StdDev        1.000000     -0.807013       -0.573260  0.493163  \n",
       "DMSNR_Excess       -0.807013      1.000000        0.924326 -0.390352  \n",
       "DMSNR_Skewness     -0.573260      0.924326        1.000000 -0.258428  \n",
       "Target              0.493163     -0.390352       -0.258428  1.000000  "
      ]
     },
     "execution_count": 21,
     "metadata": {},
     "output_type": "execute_result"
    }
   ],
   "source": [
    "df.corr()"
   ]
  },
  {
   "cell_type": "markdown",
   "id": "94ffa8d3-59ba-4061-94b1-18e2ee0d865c",
   "metadata": {},
   "source": [
    "Heatmap of the correlation matrix to visualize the multicollinearity between varibales"
   ]
  },
  {
   "cell_type": "code",
   "execution_count": 22,
   "id": "2690585f-3b36-4b43-8190-2a2e7e6e9a87",
   "metadata": {},
   "outputs": [
    {
     "data": {
      "text/plain": [
       "<AxesSubplot:>"
      ]
     },
     "execution_count": 22,
     "metadata": {},
     "output_type": "execute_result"
    },
    {
     "data": {
      "image/png": "[encoded data removed]",
      "text/plain": [
       "<Figure size 720x720 with 2 Axes>"
      ]
     },
     "metadata": {
      "needs_background": "light"
     },
     "output_type": "display_data"
    }
   ],
   "source": [
    "plt.figure(figsize=(10,10))\n",
    "sns.heatmap(df.corr() ,annot = True)"
   ]
  },
  {
   "cell_type": "markdown",
   "id": "72632ede-4699-44f8-a950-b84392a0d6d6",
   "metadata": {},
   "source": [
    "**High positive correlation between:**\n",
    "* IP_Excess and IP_Skewness\n",
    "\n",
    "**High negative correlation between:**\n",
    "* IP_Skewness and IP_Mean\n",
    "* IP_Excess and IP_Mean\n",
    "\n",
    "**Correlations between independent and dependent variable:**\n",
    "* IP_Excess and IP_Skewness have a high positive correlation with Target\n",
    "* IP_Mean has high negative correlation with Target."
   ]
  },
  {
   "cell_type": "markdown",
   "id": "dd17c2c2-3bd2-473e-99c2-2ee043ba1738",
   "metadata": {},
   "source": [
    "Visualizing the range of IP_Mean and DMSNR_Mean values, where maximum number of pulsar stars are found, to get the sense of how the target class is dispersed in the dataset."
   ]
  },
  {
   "cell_type": "code",
   "execution_count": 23,
   "id": "d874a8d7-c62b-4a32-807c-5fe561891a96",
   "metadata": {},
   "outputs": [
    {
     "data": {
      "text/plain": [
       "Text(0, 0.5, 'Number of pulsar stars')"
      ]
     },
     "execution_count": 23,
     "metadata": {},
     "output_type": "execute_result"
    },
    {
     "data": {
      "image/png": "[encoded data removed]",
      "text/plain": [
       "<Figure size 1080x1080 with 2 Axes>"
      ]
     },
     "metadata": {
      "needs_background": "light"
     },
     "output_type": "display_data"
    }
   ],
   "source": [
    "plt.figure(figsize=(15,15))\n",
    "plt.subplot(2, 2, 1)\n",
    "fig = df['IP_Mean'].hist(bins=20)\n",
    "fig.set_xlabel('IP_Mean')\n",
    "fig.set_ylabel('Number of pulsar stars')\n",
    "\n",
    "plt.subplot(2, 2, 2)\n",
    "fig = df['DMSNR_Mean'].hist(bins=20)\n",
    "fig.set_xlabel('DMSNR_Mean')\n",
    "fig.set_ylabel('Number of pulsar stars')"
   ]
  },
  {
   "cell_type": "markdown",
   "id": "61318dc5-b24b-4fe7-83d6-d630e222e06a",
   "metadata": {},
   "source": [
    "## Preprocessing"
   ]
  },
  {
   "cell_type": "markdown",
   "id": "a03f55b5-61ba-412e-bc2b-6b5b310277ba",
   "metadata": {},
   "source": [
    "### Normalising the values"
   ]
  },
  {
   "cell_type": "markdown",
   "id": "8ed5b0e6-dadc-4752-bc98-cef557e7a098",
   "metadata": {},
   "source": [
    "We are normalising the values of the dataframe so as to improve performance of ML algorihtm. This means that algorithm gives equal weightage to all the input variables."
   ]
  },
  {
   "cell_type": "code",
   "execution_count": 46,
   "id": "0be84a53-deb6-4fce-8e56-4bb8909da2bf",
   "metadata": {},
   "outputs": [],
   "source": [
    "scaler = preprocessing.MinMaxScaler(feature_range = (0,1))\n",
    "rescaled_data = scaler.fit_transform(df.drop(columns='Target'))\n",
    "standard_df= pd.DataFrame(rescaled_data,index=df.index,columns=df.drop(columns='Target').columns)\n",
    "standard_df['Target'] = df['Target']\n",
    "df = standard_df"
   ]
  },
  {
   "cell_type": "code",
   "execution_count": 47,
   "id": "b02ccbf9-e29b-4379-b84f-3f3058ac7fb6",
   "metadata": {},
   "outputs": [
    {
     "data": {
      "text/html": [
       "<div>\n",
       "<style scoped>\n",
       "    .dataframe tbody tr th:only-of-type {\n",
       "        vertical-align: middle;\n",
       "    }\n",
       "\n",
       "    .dataframe tbody tr th {\n",
       "        vertical-align: top;\n",
       "    }\n",
       "\n",
       "    .dataframe thead th {\n",
       "        text-align: right;\n",
       "    }\n",
       "</style>\n",
       "<table border=\"1\" class=\"dataframe\">\n",
       "  <thead>\n",
       "    <tr style=\"text-align: right;\">\n",
       "      <th></th>\n",
       "      <th>IP_Mean</th>\n",
       "      <th>IP_StdDev</th>\n",
       "      <th>IP_Excess</th>\n",
       "      <th>IP_Skewness</th>\n",
       "      <th>DMSNR_Mean</th>\n",
       "      <th>DMSNR_StdDev</th>\n",
       "      <th>DMSNR_Excess</th>\n",
       "      <th>DMSNR_Skewness</th>\n",
       "      <th>Target</th>\n",
       "    </tr>\n",
       "  </thead>\n",
       "  <tbody>\n",
       "    <tr>\n",
       "      <th>0</th>\n",
       "      <td>0.626373</td>\n",
       "      <td>0.352060</td>\n",
       "      <td>0.215498</td>\n",
       "      <td>0.025449</td>\n",
       "      <td>0.013959</td>\n",
       "      <td>0.106795</td>\n",
       "      <td>0.271319</td>\n",
       "      <td>0.056276</td>\n",
       "      <td>0</td>\n",
       "    </tr>\n",
       "    <tr>\n",
       "      <th>1</th>\n",
       "      <td>0.385630</td>\n",
       "      <td>0.170109</td>\n",
       "      <td>0.249901</td>\n",
       "      <td>0.074121</td>\n",
       "      <td>0.010326</td>\n",
       "      <td>0.098774</td>\n",
       "      <td>0.324168</td>\n",
       "      <td>0.087764</td>\n",
       "      <td>0</td>\n",
       "    </tr>\n",
       "    <tr>\n",
       "      <th>2</th>\n",
       "      <td>0.677748</td>\n",
       "      <td>0.424507</td>\n",
       "      <td>0.190815</td>\n",
       "      <td>0.021385</td>\n",
       "      <td>0.011949</td>\n",
       "      <td>0.145172</td>\n",
       "      <td>0.299790</td>\n",
       "      <td>0.063713</td>\n",
       "      <td>0</td>\n",
       "    </tr>\n",
       "    <tr>\n",
       "      <th>4</th>\n",
       "      <td>0.428322</td>\n",
       "      <td>0.169245</td>\n",
       "      <td>0.261333</td>\n",
       "      <td>0.072482</td>\n",
       "      <td>0.012170</td>\n",
       "      <td>0.128279</td>\n",
       "      <td>0.297010</td>\n",
       "      <td>0.065607</td>\n",
       "      <td>0</td>\n",
       "    </tr>\n",
       "    <tr>\n",
       "      <th>7</th>\n",
       "      <td>0.562356</td>\n",
       "      <td>0.464530</td>\n",
       "      <td>0.234832</td>\n",
       "      <td>0.026442</td>\n",
       "      <td>0.012206</td>\n",
       "      <td>0.117419</td>\n",
       "      <td>0.324938</td>\n",
       "      <td>0.083280</td>\n",
       "      <td>0</td>\n",
       "    </tr>\n",
       "  </tbody>\n",
       "</table>\n",
       "</div>"
      ],
      "text/plain": [
       "    IP_Mean  IP_StdDev  IP_Excess  IP_Skewness  DMSNR_Mean  DMSNR_StdDev  \\\n",
       "0  0.626373   0.352060   0.215498     0.025449    0.013959      0.106795   \n",
       "1  0.385630   0.170109   0.249901     0.074121    0.010326      0.098774   \n",
       "2  0.677748   0.424507   0.190815     0.021385    0.011949      0.145172   \n",
       "4  0.428322   0.169245   0.261333     0.072482    0.012170      0.128279   \n",
       "7  0.562356   0.464530   0.234832     0.026442    0.012206      0.117419   \n",
       "\n",
       "   DMSNR_Excess  DMSNR_Skewness  Target  \n",
       "0      0.271319        0.056276       0  \n",
       "1      0.324168        0.087764       0  \n",
       "2      0.299790        0.063713       0  \n",
       "4      0.297010        0.065607       0  \n",
       "7      0.324938        0.083280       0  "
      ]
     },
     "execution_count": 47,
     "metadata": {},
     "output_type": "execute_result"
    }
   ],
   "source": [
    "df.head()"
   ]
  },
  {
   "cell_type": "markdown",
   "id": "572e0938-e0bf-4fb4-9a4e-f3d863690aae",
   "metadata": {},
   "source": [
    "We will now split the dataset into training and test set using sklearn's `train_test_split` function, with splitting ratio of 70/30 for training and testing respectively"
   ]
  },
  {
   "cell_type": "code",
   "execution_count": 48,
   "id": "c01314dd-ab34-40be-bae3-fc174d9929f2",
   "metadata": {},
   "outputs": [],
   "source": [
    "x = df.drop('Target',axis=1)\n",
    "y = df['Target']\n",
    "x_train, x_test, y_train, y_test = train_test_split(x, y, test_size=.30)"
   ]
  },
  {
   "cell_type": "code",
   "execution_count": 49,
   "id": "c3457f2b-885e-44d7-a431-0abfdfeb47a3",
   "metadata": {},
   "outputs": [
    {
     "data": {
      "text/html": [
       "<div>\n",
       "<style scoped>\n",
       "    .dataframe tbody tr th:only-of-type {\n",
       "        vertical-align: middle;\n",
       "    }\n",
       "\n",
       "    .dataframe tbody tr th {\n",
       "        vertical-align: top;\n",
       "    }\n",
       "\n",
       "    .dataframe thead th {\n",
       "        text-align: right;\n",
       "    }\n",
       "</style>\n",
       "<table border=\"1\" class=\"dataframe\">\n",
       "  <thead>\n",
       "    <tr style=\"text-align: right;\">\n",
       "      <th></th>\n",
       "      <th>IP_Mean</th>\n",
       "      <th>IP_StdDev</th>\n",
       "      <th>IP_Excess</th>\n",
       "      <th>IP_Skewness</th>\n",
       "      <th>DMSNR_Mean</th>\n",
       "      <th>DMSNR_StdDev</th>\n",
       "      <th>DMSNR_Excess</th>\n",
       "      <th>DMSNR_Skewness</th>\n",
       "    </tr>\n",
       "  </thead>\n",
       "  <tbody>\n",
       "    <tr>\n",
       "      <th>0</th>\n",
       "      <td>0.626373</td>\n",
       "      <td>0.352060</td>\n",
       "      <td>0.215498</td>\n",
       "      <td>0.025449</td>\n",
       "      <td>0.013959</td>\n",
       "      <td>0.106795</td>\n",
       "      <td>0.271319</td>\n",
       "      <td>0.056276</td>\n",
       "    </tr>\n",
       "    <tr>\n",
       "      <th>1</th>\n",
       "      <td>0.385630</td>\n",
       "      <td>0.170109</td>\n",
       "      <td>0.249901</td>\n",
       "      <td>0.074121</td>\n",
       "      <td>0.010326</td>\n",
       "      <td>0.098774</td>\n",
       "      <td>0.324168</td>\n",
       "      <td>0.087764</td>\n",
       "    </tr>\n",
       "    <tr>\n",
       "      <th>2</th>\n",
       "      <td>0.677748</td>\n",
       "      <td>0.424507</td>\n",
       "      <td>0.190815</td>\n",
       "      <td>0.021385</td>\n",
       "      <td>0.011949</td>\n",
       "      <td>0.145172</td>\n",
       "      <td>0.299790</td>\n",
       "      <td>0.063713</td>\n",
       "    </tr>\n",
       "    <tr>\n",
       "      <th>4</th>\n",
       "      <td>0.428322</td>\n",
       "      <td>0.169245</td>\n",
       "      <td>0.261333</td>\n",
       "      <td>0.072482</td>\n",
       "      <td>0.012170</td>\n",
       "      <td>0.128279</td>\n",
       "      <td>0.297010</td>\n",
       "      <td>0.065607</td>\n",
       "    </tr>\n",
       "    <tr>\n",
       "      <th>7</th>\n",
       "      <td>0.562356</td>\n",
       "      <td>0.464530</td>\n",
       "      <td>0.234832</td>\n",
       "      <td>0.026442</td>\n",
       "      <td>0.012206</td>\n",
       "      <td>0.117419</td>\n",
       "      <td>0.324938</td>\n",
       "      <td>0.083280</td>\n",
       "    </tr>\n",
       "    <tr>\n",
       "      <th>...</th>\n",
       "      <td>...</td>\n",
       "      <td>...</td>\n",
       "      <td>...</td>\n",
       "      <td>...</td>\n",
       "      <td>...</td>\n",
       "      <td>...</td>\n",
       "      <td>...</td>\n",
       "      <td>...</td>\n",
       "    </tr>\n",
       "    <tr>\n",
       "      <th>12522</th>\n",
       "      <td>0.646378</td>\n",
       "      <td>0.385084</td>\n",
       "      <td>0.201027</td>\n",
       "      <td>0.021532</td>\n",
       "      <td>0.010058</td>\n",
       "      <td>0.063711</td>\n",
       "      <td>0.319099</td>\n",
       "      <td>0.099989</td>\n",
       "    </tr>\n",
       "    <tr>\n",
       "      <th>12523</th>\n",
       "      <td>0.643569</td>\n",
       "      <td>0.423754</td>\n",
       "      <td>0.175947</td>\n",
       "      <td>0.017682</td>\n",
       "      <td>0.032934</td>\n",
       "      <td>0.212428</td>\n",
       "      <td>0.192815</td>\n",
       "      <td>0.019868</td>\n",
       "    </tr>\n",
       "    <tr>\n",
       "      <th>12525</th>\n",
       "      <td>0.598451</td>\n",
       "      <td>0.275101</td>\n",
       "      <td>0.244860</td>\n",
       "      <td>0.031834</td>\n",
       "      <td>0.002701</td>\n",
       "      <td>0.041228</td>\n",
       "      <td>0.529689</td>\n",
       "      <td>0.263359</td>\n",
       "    </tr>\n",
       "    <tr>\n",
       "      <th>12526</th>\n",
       "      <td>0.705414</td>\n",
       "      <td>0.375343</td>\n",
       "      <td>0.168042</td>\n",
       "      <td>0.022393</td>\n",
       "      <td>0.017221</td>\n",
       "      <td>0.136834</td>\n",
       "      <td>0.269934</td>\n",
       "      <td>0.053908</td>\n",
       "    </tr>\n",
       "    <tr>\n",
       "      <th>12527</th>\n",
       "      <td>0.624032</td>\n",
       "      <td>0.383376</td>\n",
       "      <td>0.212510</td>\n",
       "      <td>0.028281</td>\n",
       "      <td>0.002626</td>\n",
       "      <td>0.042821</td>\n",
       "      <td>0.546016</td>\n",
       "      <td>0.277897</td>\n",
       "    </tr>\n",
       "  </tbody>\n",
       "</table>\n",
       "<p>9273 rows × 8 columns</p>\n",
       "</div>"
      ],
      "text/plain": [
       "        IP_Mean  IP_StdDev  IP_Excess  IP_Skewness  DMSNR_Mean  DMSNR_StdDev  \\\n",
       "0      0.626373   0.352060   0.215498     0.025449    0.013959      0.106795   \n",
       "1      0.385630   0.170109   0.249901     0.074121    0.010326      0.098774   \n",
       "2      0.677748   0.424507   0.190815     0.021385    0.011949      0.145172   \n",
       "4      0.428322   0.169245   0.261333     0.072482    0.012170      0.128279   \n",
       "7      0.562356   0.464530   0.234832     0.026442    0.012206      0.117419   \n",
       "...         ...        ...        ...          ...         ...           ...   \n",
       "12522  0.646378   0.385084   0.201027     0.021532    0.010058      0.063711   \n",
       "12523  0.643569   0.423754   0.175947     0.017682    0.032934      0.212428   \n",
       "12525  0.598451   0.275101   0.244860     0.031834    0.002701      0.041228   \n",
       "12526  0.705414   0.375343   0.168042     0.022393    0.017221      0.136834   \n",
       "12527  0.624032   0.383376   0.212510     0.028281    0.002626      0.042821   \n",
       "\n",
       "       DMSNR_Excess  DMSNR_Skewness  \n",
       "0          0.271319        0.056276  \n",
       "1          0.324168        0.087764  \n",
       "2          0.299790        0.063713  \n",
       "4          0.297010        0.065607  \n",
       "7          0.324938        0.083280  \n",
       "...             ...             ...  \n",
       "12522      0.319099        0.099989  \n",
       "12523      0.192815        0.019868  \n",
       "12525      0.529689        0.263359  \n",
       "12526      0.269934        0.053908  \n",
       "12527      0.546016        0.277897  \n",
       "\n",
       "[9273 rows x 8 columns]"
      ]
     },
     "execution_count": 49,
     "metadata": {},
     "output_type": "execute_result"
    }
   ],
   "source": [
    "x"
   ]
  },
  {
   "cell_type": "code",
   "execution_count": 50,
   "id": "b6a5a8b7-82e1-4037-afe1-1d4b19b4938d",
   "metadata": {},
   "outputs": [
    {
     "data": {
      "text/plain": [
       "0        0\n",
       "1        0\n",
       "2        0\n",
       "4        0\n",
       "7        0\n",
       "        ..\n",
       "12522    0\n",
       "12523    0\n",
       "12525    0\n",
       "12526    0\n",
       "12527    0\n",
       "Name: Target, Length: 9273, dtype: int64"
      ]
     },
     "execution_count": 50,
     "metadata": {},
     "output_type": "execute_result"
    }
   ],
   "source": [
    "y"
   ]
  },
  {
   "cell_type": "markdown",
   "id": "6220dc16-7a2f-42e1-aedb-4e0f85f70cc8",
   "metadata": {},
   "source": [
    "## Support Vector Machines"
   ]
  },
  {
   "cell_type": "markdown",
   "id": "94a5a638-71ef-48c0-bf8d-6bd2e4eb5c73",
   "metadata": {},
   "source": [
    "Data for pulsar analysis is non-linear and SVM is the model that is suitbale for non-linear data modeling, while being easier to interpret. Therefore, we decided to use Support Vector Machine as our model for classifying stars as pulsar or not. "
   ]
  },
  {
   "cell_type": "markdown",
   "id": "81daee09-c05a-4f90-a4f3-fee8101fa654",
   "metadata": {},
   "source": [
    "### Model Training"
   ]
  },
  {
   "cell_type": "markdown",
   "id": "680be3d2-e9e2-4ec8-9420-e567aa9a1791",
   "metadata": {},
   "source": [
    "We are now instantiating the SVC class which create an SVC object and expose fit method to train the Support Vector Machine model with linear kernel and with feature set and its corresponding target labels"
   ]
  },
  {
   "cell_type": "code",
   "execution_count": 51,
   "id": "ba51d9fa-db6d-4135-bcd4-8bc916bd4fe9",
   "metadata": {},
   "outputs": [],
   "source": [
    "model = svm.SVC(kernel='linear').fit(x_train, y_train)"
   ]
  },
  {
   "cell_type": "markdown",
   "id": "a2f6d2d2-ad8e-467a-9131-8f05cb58efa7",
   "metadata": {},
   "source": [
    "### Model Evaluation "
   ]
  },
  {
   "cell_type": "markdown",
   "id": "7660d7a4-ca5a-421d-b5b1-b026389c1cdb",
   "metadata": {},
   "source": [
    "We are calculating training accuracy of the SVM model along with other metrics such as precision, recall and F1-score. We will compare this metrics with the metrics obtained via testing set and compare the model's genralizability of the overall problem that we are trying to solve."
   ]
  },
  {
   "cell_type": "code",
   "execution_count": 52,
   "id": "d2be821b-4df7-4256-97d0-19b4a58e1583",
   "metadata": {},
   "outputs": [
    {
     "name": "stdout",
     "output_type": "stream",
     "text": [
      "SVM best accuracy : 0.976\n"
     ]
    }
   ],
   "source": [
    "y_pred = model.predict(x_train)\n",
    "print( \"SVM best accuracy : \" + str(np.round(metrics.accuracy_score(y_train, y_pred),3)))"
   ]
  },
  {
   "cell_type": "code",
   "execution_count": 53,
   "id": "b4369443-21d0-4040-ac2e-ecee1b791713",
   "metadata": {},
   "outputs": [
    {
     "name": "stdout",
     "output_type": "stream",
     "text": [
      "SVM best accuracy : 0.972\n"
     ]
    }
   ],
   "source": [
    "y_pred = model.predict(x_test)\n",
    "print( \"SVM best accuracy : \" + str(np.round(metrics.accuracy_score(y_test, y_pred),3)))"
   ]
  },
  {
   "cell_type": "code",
   "execution_count": 54,
   "id": "55bea162-233b-4c3b-a465-25ca3944bd1a",
   "metadata": {},
   "outputs": [
    {
     "data": {
      "text/plain": [
       "<sklearn.metrics._plot.confusion_matrix.ConfusionMatrixDisplay at 0x14e706a30>"
      ]
     },
     "execution_count": 54,
     "metadata": {},
     "output_type": "execute_result"
    },
    {
     "data": {
      "image/png": "[encoded data removed]",
      "text/plain": [
       "<Figure size 432x288 with 2 Axes>"
      ]
     },
     "metadata": {
      "needs_background": "light"
     },
     "output_type": "display_data"
    }
   ],
   "source": [
    "metrics.ConfusionMatrixDisplay.from_predictions(y_test, y_pred)"
   ]
  },
  {
   "cell_type": "code",
   "execution_count": 41,
   "id": "fda359e0-1985-4d21-bd32-6e81290761ce",
   "metadata": {},
   "outputs": [
    {
     "name": "stdout",
     "output_type": "stream",
     "text": [
      "Classification Report on the test data -\n",
      "\n",
      "               precision    recall  f1-score   support\n",
      "\n",
      "           0       0.98      0.99      0.99      2508\n",
      "           1       0.93      0.81      0.87       274\n",
      "\n",
      "    accuracy                           0.98      2782\n",
      "   macro avg       0.95      0.90      0.93      2782\n",
      "weighted avg       0.97      0.98      0.97      2782\n",
      "\n"
     ]
    }
   ],
   "source": [
    "print('Classification Report on the test data -\\n\\n',metrics.classification_report(y_test, model.predict(x_test)))"
   ]
  },
  {
   "cell_type": "markdown",
   "id": "990acf97-37a9-4a22-9ab2-d36016d7686e",
   "metadata": {},
   "source": [
    "Due to high imbalances data set, accuracy is not enough and can often be misleading. Therefore, we will look at precision and recall to judge the performance of our model."
   ]
  },
  {
   "cell_type": "markdown",
   "id": "b8336f37-b975-419d-8b4a-dd737437d8eb",
   "metadata": {},
   "source": [
    "We received high precision score for both the classes `0` and `1`. This means that our model is able to correctly identify datapoints to its correct class. This is important as we have high class imbalance in our dataset and model is performing well insspite of that."
   ]
  },
  {
   "cell_type": "markdown",
   "id": "e5e98195-bd08-4f84-a22c-949ec278c1e0",
   "metadata": {},
   "source": [
    "Recall is also high for our model, for class `0`, which signifies out of all the true `0` class datapoints, how many did the model got correct, which is not surprising, since model had abundant data to train from. Where as it falls behind for class `1`, due to significantly less datapoints, but nevertheless is still high, if you look at the support for each class."
   ]
  },
  {
   "cell_type": "markdown",
   "id": "20bfdb55-b18e-4a8f-83b3-5bef1f5f6182",
   "metadata": {},
   "source": [
    "## Conclusion"
   ]
  },
  {
   "cell_type": "markdown",
   "id": "0001776b-50cc-4058-8c0c-83c63d783b92",
   "metadata": {},
   "source": [
    "Even with high class imbalance in the dataset, SVM model performed better than average on classifying a star as Pulsar or no Pulsar. We have received high scores for precision snd recall for both the classes, signaling that model in able to distinguish both the classes well, which supports the statement that SVM is a suitable model for situations, where dataset has class imbalance."
   ]
  },
  {
   "cell_type": "code",
   "execution_count": null,
   "id": "7cf386e1-ecc6-4368-b8a3-7e054c907fb3",
   "metadata": {},
   "outputs": [],
   "source": []
  }
 ],
 "metadata": {
  "kernelspec": {
   "display_name": "Python 3 (ipykernel)",
   "language": "python",
   "name": "python3"
  },
  "language_info": {
   "codemirror_mode": {
    "name": "ipython",
    "version": 3
   },
   "file_extension": ".py",
   "mimetype": "text/x-python",
   "name": "python",
   "nbconvert_exporter": "python",
   "pygments_lexer": "ipython3",
   "version": "3.9.2"
  }
 },
 "nbformat": 4,
 "nbformat_minor": 5
}
